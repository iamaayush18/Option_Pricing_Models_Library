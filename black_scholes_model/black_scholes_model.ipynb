{
 "cells": [
  {
   "cell_type": "markdown",
   "id": "11fc3718-6f89-4898-8a62-913300e9a8b0",
   "metadata": {},
   "source": [
    "# Options Calculator with Black-Scholes Model\n",
    "\n",
    "The Options Calculator using the Black-Scholes Model provides insights into the pricing of European call and put options, which can only be exercised at expiration. This model is pivotal for investors looking to develop an option trading strategy, based on the following assumptions:\n",
    "\n",
    "- European options that can only be exercised at expiration.\n",
    "- No dividends are paid out during the option's life.\n",
    "- Stock markets are efficient.\n",
    "- There are no transaction and commissions costs in buying the option.\n",
    "- The risk-free rate and volatility of the underlying are known and constant.\n",
    "- The returns on the underlying are normally distributed.\n",
    "\n",
    "## Input Variables:\n",
    "- **Underlying price (per share):** $S$\n",
    "- **Strike price of the option (per share):** $K$\n",
    "- **Time to maturity (years):** $T$\n",
    "- **Continuously compounding risk-free interest rate:** $r$\n",
    "- **Volatility:** $\\sigma$\n",
    "\n",
    "## Output Variables:\n",
    "The cumulative density function of normal distribution $N(.)$\n",
    "\n",
    "- **$N(d2)$** is the risk-adjusted probability that the option will be exercised.\n",
    "- **$N(d1)$** is the probability of receiving the stock at expiration of the option.\n",
    "\n",
    "## The Greek letters\n",
    "- **Delta ($\\Delta$):** The rate of change of the option price with respect to the rate of the change of the underlying asset price.\n",
    "- **Gamma ($\\Gamma$):** The rate of change of delta with respect to the rate of change of the underlying asset price.\n",
    "- **Vega ($\\nu$):** The rate of change of the option price with respect to the volatility of the underlying asset.\n",
    "- **Rho ($\\rho$):** The rate of change of the option price with respect to the interest rate.\n",
    "- **Theta ($\\Theta$):** The rate of change of the option price with respect to the passage of time."
   ]
  },
  {
   "cell_type": "code",
   "execution_count": 3,
   "id": "74176743-336a-4f30-ad26-68a1730ad28b",
   "metadata": {},
   "outputs": [],
   "source": [
    "from math import log, sqrt, pi, exp\n",
    "from scipy.stats import norm\n",
    "from datetime import datetime, date\n",
    "import numpy as np\n",
    "import pandas as pd\n",
    "from pandas import DataFrame"
   ]
  },
  {
   "cell_type": "markdown",
   "id": "5fa9ad13-f5fb-42ee-a482-381e75b680a8",
   "metadata": {},
   "source": [
    "Defining two functions for calculating $d1$ and $d2$"
   ]
  },
  {
   "cell_type": "code",
   "execution_count": 4,
   "id": "5a1a5511-4e4f-4ae3-b08d-8f54c0c132b4",
   "metadata": {},
   "outputs": [],
   "source": [
    "def d1(S,T,K,r,sigma):\n",
    "    value = (log(S/K) + (r + (sigma**2)/2)*T)/(sigma*sqrt(T))\n",
    "    return value\n",
    "    \n",
    "def d2(S,T,K,r,sigma):\n",
    "    value = (log(S/K) + (r - (sigma**2)/2)*T)/(sigma*sqrt(T))\n",
    "    return value"
   ]
  },
  {
   "cell_type": "markdown",
   "id": "26910d3e-9bab-45dd-9f0d-0cc9d8ca6f8d",
   "metadata": {},
   "source": [
    "Define the call and put option price functions"
   ]
  },
  {
   "cell_type": "code",
   "execution_count": 5,
   "id": "43a6e76e-ec79-45c5-ad3b-e4508a96355d",
   "metadata": {},
   "outputs": [],
   "source": [
    "def call_price(S,K,T,r,sigma):\n",
    "    return S*norm.cdf(d1(S,K,T,r,sigma)) - K*exp(-r*T)*norm.cdf(d2(S,K,T,r,sigma))\n",
    "\n",
    "def put_price(S,K,T,r,sigma):\n",
    "    return K*exp(-r*T)*norm.cdf(-d2(S,K,T,r,sigma)) - S*norm.cdf(-d1(S,K,T,r,sigma))"
   ]
  },
  {
   "cell_type": "markdown",
   "id": "1a089635-7bdf-4fed-b1a9-7ee9286d1372",
   "metadata": {},
   "source": [
    "Define the value of Greek letter defined above of an option for both put and call options"
   ]
  },
  {
   "cell_type": "code",
   "execution_count": 6,
   "id": "66260f63-c555-46e6-afce-2aa2d182d252",
   "metadata": {},
   "outputs": [],
   "source": [
    "def call_delta(S,K,T,r,sigma):\n",
    "    return norm.cdf(d1(S,K,T,r,sigma))\n",
    "def call_gamma(S,K,T,r,sigma):\n",
    "    return norm.pdf(d1(S,K,T,r,sigma))/(S*sigma*sqrt(T))\n",
    "def call_vega(S,K,T,r,sigma):\n",
    "    return 0.01*(S*norm.pdf(d1(S,K,T,r,sigma))*sqrt(T))\n",
    "def call_theta(S,K,T,r,sigma):\n",
    "    return 0.01*(-(S*norm.pdf(d1(S,K,T,r,sigma))*sigma)/(2*sqrt(T)) - r*K*exp(-r*T)*norm.cdf(d2(S,K,T,r,sigma)))\n",
    "def call_rho(S,K,T,r,sigma):\n",
    "    return 0.01*(K*T*exp(-r*T)*norm.cdf(d2(S,K,T,r,sigma)))\n",
    "def put_delta(S,K,T,r,sigma):\n",
    "    return -norm.cdf(-d1(S,K,T,r,sigma))\n",
    "def put_gamma(S,K,T,r,sigma):\n",
    "    return norm.pdf(d1(S,K,T,r,sigma))/(S*sigma*sqrt(T))\n",
    "def put_vega(S,K,T,r,sigma):\n",
    "    return 0.01*(S*norm.pdf(d1(S,K,T,r,sigma))*sqrt(T))\n",
    "def put_theta(S,K,T,r,sigma):\n",
    "    return 0.01*(-(S*norm.pdf(d1(S,K,T,r,sigma))*sigma)/(2*sqrt(T)) + r*K*exp(-r*T)*norm.cdf(-d2(S,K,T,r,sigma)))\n",
    "def put_rho(S,K,T,r,sigma):\n",
    "    return 0.01*(-K*T*exp(-r*T)*norm.cdf(-d2(S,K,T,r,sigma)))"
   ]
  },
  {
   "cell_type": "markdown",
   "id": "81e0dbc0-9130-4619-8a64-40180a913082",
   "metadata": {},
   "source": [
    "### Testing the model on a demo input"
   ]
  },
  {
   "cell_type": "code",
   "execution_count": 13,
   "id": "70a77db2-fb22-492b-a208-c7c40b556f33",
   "metadata": {},
   "outputs": [
    {
     "name": "stdin",
     "output_type": "stream",
     "text": [
      "What is the current stock price?  100\n",
      "What is the strike price?  100\n",
      "What is the expiration date of the options? (mm-dd-yyyy)  07\n"
     ]
    },
    {
     "name": "stdout",
     "output_type": "stream",
     "text": [
      "error: time data '07' does not match format '%m-%d-%Y'\n",
      "Try again.\n"
     ]
    },
    {
     "name": "stdin",
     "output_type": "stream",
     "text": [
      "What is the expiration date of the options? (mm-dd-yyyy)  07-25-2024\n"
     ]
    },
    {
     "name": "stderr",
     "output_type": "stream",
     "text": [
      "C:\\Users\\vinee\\AppData\\Local\\Temp\\ipykernel_21468\\1752444877.py:31: DeprecationWarning: datetime.datetime.utcnow() is deprecated and scheduled for removal in a future version. Use timezone-aware objects to represent datetimes in UTC: datetime.datetime.now(datetime.UTC).\n",
      "  T = (expiration_date - datetime.utcnow()).days / 365\n"
     ]
    },
    {
     "name": "stdin",
     "output_type": "stream",
     "text": [
      "What is the continuously compounding risk-free interest rate in percentage(%)?  20\n",
      "What is the volatility in percentage(%)?  20\n"
     ]
    }
   ],
   "source": [
    "## input the current stock price and check if it is a number.\n",
    "S = input(\"What is the current stock price? \");\n",
    "while True:\n",
    "    try:\n",
    "        S = float(S)\n",
    "        break\n",
    "    except:\n",
    "        print(\"The current stock price has to be a NUMBER.\")\n",
    "        S = input(\"What is the current stock price? \")\n",
    "\n",
    "## input the strike price and check if it is a number.\n",
    "K = input(\"What is the strike price? \");\n",
    "while True:\n",
    "    try:\n",
    "        K = float(K)\n",
    "        break\n",
    "    except:\n",
    "        print(\"The the strike price has to be a NUMBER.\")\n",
    "        K = input(\"What is the strike price? \")\n",
    "\n",
    "\n",
    "## input the expiration_date and calculate the days between today and the expiration date.\n",
    "while True:\n",
    "    expiration_date = input(\"What is the expiration date of the options? (mm-dd-yyyy) \")\n",
    "    try:\n",
    "        expiration_date = datetime.strptime(expiration_date, \"%m-%d-%Y\")\n",
    "    except ValueError as e:\n",
    "        print(\"error: %s\\nTry again.\" % (e,))\n",
    "    else:\n",
    "        break\n",
    "T = (expiration_date - datetime.utcnow()).days / 365\n",
    "\n",
    "\n",
    "## input the continuously compounding risk-free interest rate and check if it is a number.\n",
    "r = input(\"What is the continuously compounding risk-free interest rate in percentage(%)? \");\n",
    "while True:\n",
    "    try:\n",
    "        r = float(r)\n",
    "        break\n",
    "    except:\n",
    "        print(\"The continuously compounding risk-free interest rate has to be a NUMBER.\")\n",
    "        r = input(\"What is the continuously compounding risk-free interest rate in percentage(%)? \")\n",
    "        \n",
    "\n",
    "## input the volatility and check if it is a number.\n",
    "sigma = input(\"What is the volatility in percentage(%)? \"); \n",
    "while True:\n",
    "    try:\n",
    "        sigma = float(sigma)\n",
    "        if sigma > 100 or sigma < 0:\n",
    "            print ( \"The range of sigma has to be in [0,100].\")\n",
    "            sigma = input(\"What is the volatility in percentage(%)? \")\n",
    "        break\n",
    "    except:\n",
    "        print(\"The volatility has to be a NUMBER.\")\n",
    "        sigma = input(\"What is the volatility in percentage(%)? \")"
   ]
  },
  {
   "cell_type": "code",
   "execution_count": 14,
   "id": "4a0caed6-7941-4006-86c7-691a518a050c",
   "metadata": {},
   "outputs": [
    {
     "name": "stdout",
     "output_type": "stream",
     "text": [
      "                        Symbol       Input\n",
      "Underlying price             S  100.000000\n",
      "Strike price                 K  100.000000\n",
      "Time to maturity             T    0.367123\n",
      "Risk-free interest rate      r   20.000000\n",
      "Volatility               sigma   20.000000\n"
     ]
    }
   ],
   "source": [
    "data = {'Symbol': ['S', 'K', 'T', 'r', 'sigma'],\n",
    "        'Input': [S, K, T , r , sigma]}\n",
    "input_frame = DataFrame(data, columns=['Symbol', 'Input'], \n",
    "                   index=['Underlying price', 'Strike price', 'Time to maturity', 'Risk-free interest rate', 'Volatility'])\n",
    "print(input_frame)"
   ]
  },
  {
   "cell_type": "markdown",
   "id": "34ef13d9-3be9-4190-9c98-4f9f4ffe1909",
   "metadata": {},
   "source": [
    "#### Calculate the call / put option price and the greeks of the call / put option"
   ]
  },
  {
   "cell_type": "code",
   "execution_count": 15,
   "id": "f4a3f212-a73f-4fb4-8730-71937c04f221",
   "metadata": {},
   "outputs": [
    {
     "data": {
      "text/html": [
       "<div>\n",
       "<style scoped>\n",
       "    .dataframe tbody tr th:only-of-type {\n",
       "        vertical-align: middle;\n",
       "    }\n",
       "\n",
       "    .dataframe tbody tr th {\n",
       "        vertical-align: top;\n",
       "    }\n",
       "\n",
       "    .dataframe thead th {\n",
       "        text-align: right;\n",
       "    }\n",
       "</style>\n",
       "<table border=\"1\" class=\"dataframe\">\n",
       "  <thead>\n",
       "    <tr style=\"text-align: right;\">\n",
       "      <th></th>\n",
       "      <th>Call</th>\n",
       "      <th>Put</th>\n",
       "    </tr>\n",
       "  </thead>\n",
       "  <tbody>\n",
       "    <tr>\n",
       "      <th>Price</th>\n",
       "      <td>7.079385e+00</td>\n",
       "      <td>1.737159e-30</td>\n",
       "    </tr>\n",
       "    <tr>\n",
       "      <th>delta</th>\n",
       "      <td>1.000000e+00</td>\n",
       "      <td>-1.211950e-43</td>\n",
       "    </tr>\n",
       "    <tr>\n",
       "      <th>gamma</th>\n",
       "      <td>1.387688e-43</td>\n",
       "      <td>1.387688e-43</td>\n",
       "    </tr>\n",
       "    <tr>\n",
       "      <th>vega</th>\n",
       "      <td>1.018905e-42</td>\n",
       "      <td>1.018905e-42</td>\n",
       "    </tr>\n",
       "    <tr>\n",
       "      <th>rho</th>\n",
       "      <td>3.411332e-01</td>\n",
       "      <td>-6.377514e-33</td>\n",
       "    </tr>\n",
       "    <tr>\n",
       "      <th>theta</th>\n",
       "      <td>-1.858412e-01</td>\n",
       "      <td>3.474317e-33</td>\n",
       "    </tr>\n",
       "  </tbody>\n",
       "</table>\n",
       "</div>"
      ],
      "text/plain": [
       "               Call           Put\n",
       "Price  7.079385e+00  1.737159e-30\n",
       "delta  1.000000e+00 -1.211950e-43\n",
       "gamma  1.387688e-43  1.387688e-43\n",
       "vega   1.018905e-42  1.018905e-42\n",
       "rho    3.411332e-01 -6.377514e-33\n",
       "theta -1.858412e-01  3.474317e-33"
      ]
     },
     "execution_count": 15,
     "metadata": {},
     "output_type": "execute_result"
    }
   ],
   "source": [
    "r = r/100; sigma = sigma/100;\n",
    "price_and_greeks = {'Call' : [call_price(S,K,T,r,sigma), call_delta(S,K,T,r,sigma), call_gamma(S,K,T,r,sigma),call_vega(S,K,T,r,sigma), call_rho(S,K,T,r,sigma), call_theta(S,K,T,r,sigma)],\n",
    "                    'Put' : [put_price(S,K,T,r,sigma), put_delta(S,K,T,r,sigma), put_gamma(S,K,T,r,sigma),put_vega(S,K,T,r,sigma), put_rho(S,K,T,r,sigma), put_theta(S,K,T,r,sigma)]}\n",
    "price_and_greeks_frame = DataFrame(price_and_greeks, columns=['Call','Put'], index=['Price', 'delta', 'gamma','vega','rho','theta'])\n",
    "price_and_greeks_frame"
   ]
  },
  {
   "cell_type": "markdown",
   "id": "597048df-921a-413f-ae90-dca7e855dc46",
   "metadata": {},
   "source": [
    "Now we discuss, how do find the value of $\\sigma$ **(Volatility)** to use in our model"
   ]
  },
  {
   "cell_type": "markdown",
   "id": "75cc6571-6b72-46c9-aad1-78645c37ce85",
   "metadata": {},
   "source": [
    "# Implied Volatilities\n",
    "\n",
    "Implied volatility is a concept used in the options markets to gauge the market's forecast of a likely movement in a security's price. It is directly influenced by the supply and demand of the underlying options and the market's expectation of the stock's direction. Implied volatility does not predict the direction in which an option is headed; it merely provides a measure of how extreme the price swings might be in the future.\n",
    "\n",
    "## Calculation of Implied Volatilities\n",
    "\n",
    "Implied volatility is not directly observable from the market and is instead derived from the option's price using models such as the Black-Scholes Model. Since the Black-Scholes Model can be used to find the theoretical price of an option, by working the model backward and entering the market price of the option, the implied volatility can be calculated. This process typically requires a numerical method such as the Newton-Raphson method due to the absence of a closed-form solution for implied volatility in terms of other option parameters.\n",
    "\n",
    "The calculation involves iterating over possible volatility values to find the one that best fits the market price of the option, under the Black-Scholes pricing model's framework. This iterative method continues until the difference between the model's price and the market price is within an acceptable tolerance level.\n",
    "\n",
    "## Usage in Black-Scholes Models\n",
    "\n",
    "In the Black-Scholes model, implied volatility serves as a critical input to price options. While other parameters in the model, such as the stock price, strike price, time to expiration, and risk-free rate, are readily observable, volatility is not. Hence, the market's implied volatility reflects the collective agreement on the stock's future volatility.\n",
    "\n",
    "Traders and investors closely monitor changes in implied volatility, as it can be an indicator of upcoming market volatility. An increase in implied volatility suggests that the market expects the stock price to move significantly, thereby increasing the price of options. Conversely, a decrease implies expectations of less dramatic movement.\n",
    "\n",
    "### Key Points:\n",
    "\n",
    "- Implied volatility represents the market's forecast of a likely movement in a security's price.\n",
    "- It is derived from the option's market price using models like the Black-Scholes Model.\n",
    "- Implied volatility is used as an input in the Black-Scholes model to price options, reflecting the market's expectation of future volatility.\n",
    "- Traders use implied volatility to assess market sentiment and to make decisions on buying or selling options.\n",
    "\n",
    "Understanding implied volatility helps traders to make informed decisions, as it provides insight into the market's expectations and the potential risk and reward associated with options trading.\n"
   ]
  },
  {
   "cell_type": "code",
   "execution_count": 19,
   "id": "f2f73520-6092-489c-8f47-8e58b3064629",
   "metadata": {},
   "outputs": [],
   "source": [
    "def implied_volatility(Option_Price,S,K,T,r):\n",
    "    sigma = 0.001\n",
    "    print (np.array([['Option Price', 'S', 'K', 'T', 'r'], [Option_Price, S, K, T, r]]))\n",
    "    if option == 'C':\n",
    "        while sigma < 1:\n",
    "            Option_Price_implied = S*norm.cdf(d1(S,K,T,r,sigma))-K*exp(-r*T)*norm.cdf(d2(S,K,T,r,sigma))\n",
    "            if Option_Price-(Option_Price_implied) < 0.001:\n",
    "                return sigma\n",
    "            sigma += 0.001\n",
    "        return \"It could not find the right volatility of the call option.\"\n",
    "    else:\n",
    "        while sigma < 1:\n",
    "            Option_Price_implied = K*exp(-r*T)-S+call_price(S,K,T,r,sigma)\n",
    "            if Option_Price-(Option_Price_implied) < 0.001:\n",
    "                return sigma\n",
    "            sigma += 0.001\n",
    "        return \"It could not find the right volatility of the put option.\"\n",
    "    return"
   ]
  },
  {
   "cell_type": "markdown",
   "id": "f4a458a6-22ee-48d7-96fc-cb606a9816d9",
   "metadata": {},
   "source": [
    "### Testing the volatility on a demo input"
   ]
  },
  {
   "cell_type": "code",
   "execution_count": 20,
   "id": "6f16c158-40df-4aab-b9c2-cc4a38559756",
   "metadata": {},
   "outputs": [
    {
     "name": "stdin",
     "output_type": "stream",
     "text": [
      "Put or Call option? (P/C)   P\n",
      "What is the option price?  8\n"
     ]
    },
    {
     "name": "stdout",
     "output_type": "stream",
     "text": [
      "[['Option Price' 'S' 'K' 'T' 'r']\n",
      " ['8.0' '100.0' '100.0' '0.36712328767123287' '0.2']]\n",
      "The implied volatility is 59.30000000000004 %.\n"
     ]
    }
   ],
   "source": [
    "option = input (\"Put or Call option? (P/C)  \")\n",
    "while option != 'P' and option !='C' :\n",
    "    print (\"error: this option does not match the format (P/C) \\nTry again.\")\n",
    "    option = input (\"Put or Call option? (P/C)  \")\n",
    "\n",
    "Price = input(\"What is the option price? \");\n",
    "while True:\n",
    "    try:\n",
    "        Price = float(Price)\n",
    "        break\n",
    "    except:\n",
    "        print(\"The the option price has to be a NUMBER.\")\n",
    "        Price = input(\"What is the option price? \")\n",
    "print (\"The implied volatility is \" + str (100* implied_volatility(Price,S,K,T,r)) + \" %.\")"
   ]
  },
  {
   "cell_type": "markdown",
   "id": "820cf3d4-443b-45e8-897a-f815c31f96f3",
   "metadata": {},
   "source": [
    "## Testing our model on past option price data from [Wallstreet](https://github.com/mcdallas/wallstreet) on GooGle and Apple Stock Options"
   ]
  },
  {
   "cell_type": "code",
   "execution_count": 21,
   "id": "3186f34d-2a70-448f-93dd-554f7d568375",
   "metadata": {},
   "outputs": [],
   "source": [
    "from wallstreet import Stock, Call, Put"
   ]
  },
  {
   "cell_type": "code",
   "execution_count": 22,
   "id": "363a6b5b-fb78-4ff6-9be5-18bc11871df6",
   "metadata": {},
   "outputs": [
    {
     "name": "stdout",
     "output_type": "stream",
     "text": [
      "No options listed for given date, using 15-03-2024 instead\n",
      "No options listed for given date, using 15-03-2024 instead\n"
     ]
    }
   ],
   "source": [
    "google_put = Put(\"GOOG\")\n",
    "google_call = Call(\"GOOG\")"
   ]
  },
  {
   "cell_type": "code",
   "execution_count": 23,
   "id": "f05bd09c-7e1e-475b-ba2d-583a3dd1abd5",
   "metadata": {},
   "outputs": [
    {
     "data": {
      "text/plain": [
       "['15-03-2024',\n",
       " '22-03-2024',\n",
       " '28-03-2024',\n",
       " '05-04-2024',\n",
       " '12-04-2024',\n",
       " '19-04-2024',\n",
       " '26-04-2024',\n",
       " '17-05-2024',\n",
       " '21-06-2024',\n",
       " '19-07-2024',\n",
       " '20-09-2024',\n",
       " '18-10-2024',\n",
       " '15-11-2024',\n",
       " '20-12-2024',\n",
       " '17-01-2025',\n",
       " '21-03-2025',\n",
       " '20-06-2025',\n",
       " '19-12-2025',\n",
       " '16-01-2026']"
      ]
     },
     "execution_count": 23,
     "metadata": {},
     "output_type": "execute_result"
    }
   ],
   "source": [
    "google_put.expirations"
   ]
  },
  {
   "cell_type": "code",
   "execution_count": 24,
   "id": "c79bd5de-db35-4a72-8261-38c1fc5f2728",
   "metadata": {},
   "outputs": [
    {
     "data": {
      "text/plain": [
       "Put(ticker=GOOG, expiration=15-03-2024)"
      ]
     },
     "execution_count": 24,
     "metadata": {},
     "output_type": "execute_result"
    }
   ],
   "source": [
    "google_put"
   ]
  },
  {
   "cell_type": "code",
   "execution_count": 26,
   "id": "dcd34435-32bd-48f6-95d8-5907c84683cb",
   "metadata": {},
   "outputs": [],
   "source": [
    "gc = Call(\"GOOG\", d=22, m=3, y=2024)"
   ]
  },
  {
   "cell_type": "code",
   "execution_count": 30,
   "id": "87edd6cc-449e-409f-bbf1-5841bef954eb",
   "metadata": {},
   "outputs": [
    {
     "ename": "AttributeError",
     "evalue": "'Call' object has no attribute 'lastPrice'",
     "output_type": "error",
     "traceback": [
      "\u001b[1;31m---------------------------------------------------------------------------\u001b[0m",
      "\u001b[1;31mAttributeError\u001b[0m                            Traceback (most recent call last)",
      "Cell \u001b[1;32mIn[30], line 1\u001b[0m\n\u001b[1;32m----> 1\u001b[0m \u001b[43mgc\u001b[49m\u001b[38;5;241;43m.\u001b[39;49m\u001b[43mlastPrice\u001b[49m()\n",
      "\u001b[1;31mAttributeError\u001b[0m: 'Call' object has no attribute 'lastPrice'"
     ]
    }
   ],
   "source": [
    "gc.lastPrice()"
   ]
  },
  {
   "cell_type": "code",
   "execution_count": null,
   "id": "47e1cde6-f01c-4d24-b9c2-50f66a402819",
   "metadata": {},
   "outputs": [],
   "source": []
  }
 ],
 "metadata": {
  "kernelspec": {
   "display_name": "Python 3 (ipykernel)",
   "language": "python",
   "name": "python3"
  },
  "language_info": {
   "codemirror_mode": {
    "name": "ipython",
    "version": 3
   },
   "file_extension": ".py",
   "mimetype": "text/x-python",
   "name": "python",
   "nbconvert_exporter": "python",
   "pygments_lexer": "ipython3",
   "version": "3.12.2"
  }
 },
 "nbformat": 4,
 "nbformat_minor": 5
}
